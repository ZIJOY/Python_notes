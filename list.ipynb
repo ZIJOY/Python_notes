{
 "cells": [
  {
   "cell_type": "markdown",
   "metadata": {},
   "source": [
    "# list item remove with pop()"
   ]
  },
  {
   "cell_type": "code",
   "execution_count": 2,
   "metadata": {},
   "outputs": [
    {
     "name": "stdout",
     "output_type": "stream",
     "text": [
      "['apple', 'banana']\n",
      "['data sience', 'machine learning', 'kagglle', 'list', 'numpy']\n",
      "<class 'list'>\n",
      "['data sience', 'machine learning', 'kagglle', 'list']\n",
      "All praise Due to Allah\n"
     ]
    }
   ],
   "source": [
    "# If you do not specify the index, the pop() method removes the last item.\n",
    "thislist = [\"apple\", \"banana\", \"cherry\"]\n",
    "thislist.pop()\n",
    "print(thislist)\n",
    "\n",
    "# remove list item with pop()\n",
    "#remove list item with  pop()\n",
    "# remove list itep with pop()\n",
    "# remove list item with pop()\n",
    "thelist = ['data sience', 'machine learning', 'kagglle', 'list', 'numpy']\n",
    "print(thelist)\n",
    "print(type(thelist))\n",
    "thelist.pop()\n",
    "print(thelist)\n",
    "# . pop() remove the last item \n",
    "# .pop() remove the last item\n",
    "# .pop() remove the last item\n",
    "print('All praise Due to Allah')\n"
   ]
  },
  {
   "cell_type": "markdown",
   "metadata": {},
   "source": [
    "## Remove the first item"
   ]
  },
  {
   "cell_type": "code",
   "execution_count": null,
   "metadata": {},
   "outputs": [],
   "source": [
    "thislist = [\"apple\", \"banana\", \"cherry\"]\n",
    "del thislist[0]\n",
    "print(thislist)\n",
    "\n",
    "''' remove the first item\n",
    "remove the first item\n",
    "rmpove the first item\n",
    "'''\n",
    "'''remove the first item'''\n",
    "\n",
    "thelist = ['apple', 'banana', 'cherry']\n",
    "print(thelist)\n",
    "del thelist[0]\n",
    "print(thelist)\n",
    "\n",
    "# del the list[0], remove the first one\n",
    "# del the luist[0], remove the first one\n",
    "# del the list[0], remove the first one\n",
    "# del the list[0], remove the first one\n",
    "print(\"All the praise due to Allah\")"
   ]
  },
  {
   "cell_type": "markdown",
   "metadata": {},
   "source": [
    "##  Delete the entire list"
   ]
  },
  {
   "cell_type": "code",
   "execution_count": null,
   "metadata": {},
   "outputs": [],
   "source": [
    "# Delete the entire list\n",
    "# delete the entire list\n",
    "print('All praise due to Allah')\n",
    "thislist = [\"apple\", \"banana\", \"cherry\"]\n",
    "del thislist\n",
    "print(thislist) #this will cause an error because you have succsesfully deleted \"thislist\".\n",
    "# the list = []\n",
    "thelist = ['apple', 'banana', 'fish']\n",
    "print(thelist)\n",
    "del thelist\n",
    "print(thelist)\n"
   ]
  }
 ],
 "metadata": {
  "kernelspec": {
   "display_name": "Python 3.10.2 64-bit",
   "language": "python",
   "name": "python3"
  },
  "language_info": {
   "codemirror_mode": {
    "name": "ipython",
    "version": 3
   },
   "file_extension": ".py",
   "mimetype": "text/x-python",
   "name": "python",
   "nbconvert_exporter": "python",
   "pygments_lexer": "ipython3",
   "version": "3.10.2"
  },
  "orig_nbformat": 4,
  "vscode": {
   "interpreter": {
    "hash": "9781c75f8ebb8db568c34abc6fa56aff5b950f24b8cfd6fe8af6829c67f4ac57"
   }
  }
 },
 "nbformat": 4,
 "nbformat_minor": 2
}
